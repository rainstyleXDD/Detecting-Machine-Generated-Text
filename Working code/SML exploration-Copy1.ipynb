{
 "cells": [
  {
   "cell_type": "code",
   "execution_count": 6,
   "id": "1ed55888-0b46-45d1-9f04-e685992c4b93",
   "metadata": {},
   "outputs": [],
   "source": [
    "import json\n",
    "from sklearn.model_selection import train_test_split\n",
    "import matplotlib.pyplot as plt\n",
    "from collections import Counter\n",
    "import numpy as np"
   ]
  },
  {
   "cell_type": "code",
   "execution_count": 7,
   "id": "75fcf078-751d-4dcd-b3cd-74a2c8d11ef8",
   "metadata": {},
   "outputs": [],
   "source": [
    "with open('C:/Users/agkat/Documents/College/1. SML/A1/domain1_train.json', 'r') as file:\n",
    "   domain1_data = [json.loads(line) for line in file]\n",
    "\n",
    "with open('C:/Users/agkat/Documents/College/1. SML/A1/domain2_train.json', 'r') as file:\n",
    "    domain2_data = [json.loads(line) for line in file]\n"
   ]
  },
  {
   "cell_type": "code",
   "execution_count": 8,
   "id": "c23c2e3d-162c-43b8-96a2-38f86d3b3f74",
   "metadata": {},
   "outputs": [],
   "source": [
    "k1 = [instance['label'] for instance in domain1_data]\n",
    "v1 = [instance['text'] for instance in domain1_data]\n",
    "\n",
    "k2 = [instance['label'] for instance in domain2_data]\n",
    "v2 = [instance['text'] for instance in domain2_data]"
   ]
  },
  {
   "cell_type": "code",
   "execution_count": 24,
   "id": "6909ef14-5839-4380-9e1a-60076048f32a",
   "metadata": {},
   "outputs": [
    {
     "name": "stdout",
     "output_type": "stream",
     "text": [
      "0 [70, 746, 825, 109, 2083, 0, 2, 0, 0, 0, 9, 0, 1004, 19, 0, 0, 7, 913]\n",
      "1 [1209, 179, 1952, 4, 4959, 7, 0, 2, 978, 1522, 6, 2874, 1051, 1]\n",
      "2 [287, 3, 3330, 0, 23, 12, 13, 465, 74, 8, 0, 8, 4, 1809, 82, 8, 4180, 3378, 8, 22, 0, 0, 3149, 0, 7, 1862, 4, 2960, 607, 797, 7, 89, 0, 1927, 9, 70, 1232, 1]\n",
      "3 [0, 0, 3, 592, 19, 2, 706, 1439, 2575, 7, 2, 0, 4680, 2575, 3, 38, 2529, 1]\n",
      "4 [9, 2, 110, 12, 42, 32, 44, 361, 9, 3860, 2358, 3, 42, 32, 0, 398, 473, 6, 260, 1579, 232, 0, 4, 0, 2960, 0, 1]\n",
      "5 [9, 892, 3, 0, 0, 3, 2, 0, 811, 3, 26, 939, 13, 60, 122, 902, 16, 0, 4, 1076, 2, 1056, 963, 400, 1067, 13, 1512, 994, 4, 32, 74, 4558, 3, 338, 1883, 1198, 108, 2, 2087, 1]\n",
      "6 [0, 1115, 0, 72, 192, 64, 31, 3295, 33, 0, 1]\n",
      "7 [2, 1510, 0, 9, 30, 138, 118, 2, 0, 0, 0, 5, 0, 12, 3, 59, 4547, 4, 0, 3, 2119, 22, 40, 0, 0, 3, 0, 0, 7, 0, 0, 415, 2, 0, 1]\n",
      "8 [0, 1398, 324, 41, 1629, 0, 4162, 0, 4, 3020, 2, 0, 24, 21, 0, 1]\n",
      "9 [9, 5, 940, 4, 394, 3, 2, 537, 8, 15, 773, 3, 809, 0, 3, 23, 70, 515, 26, 3171, 40, 1524, 925, 6, 2, 112, 12, 780, 9, 868, 1]\n",
      "[[[0. 0. 0. ... 0. 0. 0.]\n",
      "  [0. 0. 0. ... 0. 0. 0.]\n",
      "  [0. 0. 0. ... 0. 0. 0.]\n",
      "  ...\n",
      "  [0. 0. 0. ... 0. 0. 0.]\n",
      "  [0. 0. 0. ... 0. 0. 0.]\n",
      "  [0. 0. 0. ... 0. 0. 0.]]\n",
      "\n",
      " [[0. 0. 0. ... 0. 0. 0.]\n",
      "  [0. 0. 0. ... 0. 0. 0.]\n",
      "  [0. 0. 0. ... 0. 0. 0.]\n",
      "  ...\n",
      "  [0. 0. 0. ... 0. 0. 0.]\n",
      "  [0. 0. 0. ... 0. 0. 0.]\n",
      "  [0. 0. 0. ... 0. 0. 0.]]\n",
      "\n",
      " [[0. 0. 0. ... 0. 0. 0.]\n",
      "  [0. 0. 0. ... 0. 0. 0.]\n",
      "  [0. 0. 0. ... 0. 0. 0.]\n",
      "  ...\n",
      "  [0. 0. 0. ... 0. 0. 0.]\n",
      "  [0. 0. 0. ... 0. 0. 0.]\n",
      "  [0. 0. 0. ... 0. 0. 0.]]\n",
      "\n",
      " ...\n",
      "\n",
      " [[0. 0. 1. ... 0. 0. 0.]\n",
      "  [0. 0. 0. ... 0. 0. 0.]\n",
      "  [1. 0. 0. ... 0. 0. 0.]\n",
      "  ...\n",
      "  [0. 0. 0. ... 0. 0. 0.]\n",
      "  [0. 0. 0. ... 0. 0. 0.]\n",
      "  [0. 0. 0. ... 0. 0. 0.]]\n",
      "\n",
      " [[1. 0. 0. ... 0. 0. 0.]\n",
      "  [0. 0. 0. ... 0. 0. 0.]\n",
      "  [0. 0. 0. ... 0. 0. 0.]\n",
      "  ...\n",
      "  [0. 0. 0. ... 0. 0. 0.]\n",
      "  [0. 0. 0. ... 0. 0. 0.]\n",
      "  [0. 0. 0. ... 0. 0. 0.]]\n",
      "\n",
      " [[0. 0. 0. ... 0. 0. 0.]\n",
      "  [0. 0. 0. ... 0. 0. 0.]\n",
      "  [0. 0. 0. ... 0. 0. 0.]\n",
      "  ...\n",
      "  [0. 0. 0. ... 0. 0. 0.]\n",
      "  [0. 0. 0. ... 0. 0. 0.]\n",
      "  [0. 0. 0. ... 0. 0. 0.]]]\n"
     ]
    }
   ],
   "source": [
    "data = v1[0:10]\n",
    "ohe = np.zeros((len(data), 1075, 5001))\n",
    "\n",
    "for i, sq in enumerate(data):\n",
    "    print(i,sq)\n",
    "    for j, d in enumerate(sq):\n",
    "        ohe[i, j, d] = 1\n",
    "    # ohe[i, sq, 0] = 1\n",
    "\n",
    "print(ohe)"
   ]
  },
  {
   "cell_type": "code",
   "execution_count": 30,
   "id": "2cd6165d-f86f-46cf-bd76-09f2d175f5e2",
   "metadata": {},
   "outputs": [
    {
     "data": {
      "text/plain": [
       "array([0., 0., 0., ..., 0., 0., 0.])"
      ]
     },
     "execution_count": 30,
     "metadata": {},
     "output_type": "execute_result"
    }
   ],
   "source": [
    "ohe[1][1]"
   ]
  },
  {
   "cell_type": "code",
   "execution_count": 74,
   "id": "c087c9d4-3bad-4261-b3bb-e9154a743c87",
   "metadata": {},
   "outputs": [],
   "source": [
    "L0_D1_C = Counter()\n",
    "L1_D1_C = Counter()\n",
    "\n",
    "for text, label in zip(v1, k1):\n",
    "  if label == 0:\n",
    "      L0_D1_C.update(text)\n",
    "  elif label == 1:\n",
    "      L1_D1_C.update(text)\n",
    "\n",
    "L0_D2_C = Counter()\n",
    "L1_D2_C = Counter()\n",
    "\n",
    "for text, label in zip(v2, k2):\n",
    "  if label == 0:\n",
    "      L0_D2_C.update(text)\n",
    "  elif label == 1:\n",
    "      L1_D2_C.update(text)"
   ]
  },
  {
   "cell_type": "code",
   "execution_count": 82,
   "id": "068d03e3-991c-403f-8703-e8f8ba0dd1e8",
   "metadata": {},
   "outputs": [],
   "source": [
    "# Ensure all 4 are same shape => adding empties so each has 5000 keys\n",
    "for k in range(5000):\n",
    "    if k not in L0_D1_C.keys():\n",
    "        L0_D1_C[k] = 0\n",
    "    if k not in L1_D1_C.keys():\n",
    "        L1_D1_C[k] = 0\n",
    "    if k not in L0_D2_C.keys():\n",
    "        L0_D2_C[k] = 0\n",
    "    if k not in L1_D2_C.keys():\n",
    "        L1_D2_C[k] = 0\n",
    "        "
   ]
  },
  {
   "cell_type": "code",
   "execution_count": 83,
   "id": "47dc750f-8d1b-45a6-babb-37898598950a",
   "metadata": {
    "scrolled": true
   },
   "outputs": [],
   "source": [
    "for k in range(5000):\n",
    "    if k not in L1_D2_C.keys():\n",
    "        print(k)"
   ]
  },
  {
   "cell_type": "code",
   "execution_count": 88,
   "id": "2c01c3bb-85e9-4039-be07-d9c641490441",
   "metadata": {},
   "outputs": [
    {
     "data": {
      "image/png": "[encoded data removed]",
      "text/plain": [
       "<Figure size 640x480 with 1 Axes>"
      ]
     },
     "metadata": {},
     "output_type": "display_data"
    }
   ],
   "source": [
    "# Domain 1\n",
    "# Plot for label 0\n",
    "plt.bar(L0_D1_C.keys(), L0_D1_C.values(), label='D1 Label 0')\n",
    "\n",
    "# Plot for label 1\n",
    "plt.bar(L1_D1_C.keys(), L1_D1_C.values(), label='D1 Label 1')\n",
    "\n",
    "# Customize the plot\n",
    "plt.xlabel('Token')\n",
    "plt.ylabel('Occurrences')\n",
    "plt.title('Token Occurrences by Label')\n",
    "\n",
    "# Set logarithmic scale\n",
    "plt.yscale('log')\n",
    "plt.legend()\n",
    "\n",
    "# Show the plot\n",
    "plt.show()"
   ]
  },
  {
   "cell_type": "code",
   "execution_count": 95,
   "id": "b7be5bf3-46a9-43ac-ad97-031f2c218545",
   "metadata": {},
   "outputs": [
    {
     "data": {
      "image/png": "[encoded data removed]",
      "text/plain": [
       "<Figure size 640x480 with 1 Axes>"
      ]
     },
     "metadata": {},
     "output_type": "display_data"
    },
    {
     "name": "stdout",
     "output_type": "stream",
     "text": [
      "Domain 1 has:  Counter({1: 9750, 0: 9750})\n",
      "Domain 2 has:  Counter({0: 12750, 1: 2150})\n"
     ]
    }
   ],
   "source": [
    "# Domain 2\n",
    "# Plot for label 0\n",
    "plt.bar(L0_D2_C.keys(), L0_D2_C.values(), label='D2 Label 0')\n",
    "\n",
    "# Plot for label 1\n",
    "plt.bar(L1_D2_C.keys(), L1_D2_C.values(), label='D2 Label 1')\n",
    "\n",
    "# Customize the plot\n",
    "plt.xlabel('Token')\n",
    "plt.ylabel('Occurrences')\n",
    "plt.title('Token Occurrences by Label')\n",
    "\n",
    "# Set logarithmic scale\n",
    "plt.yscale('log')\n",
    "plt.legend()\n",
    "\n",
    "# Show the plot\n",
    "plt.show()\n",
    "\n",
    "# Numerical comparison \n",
    "D1_C = Counter(k1)\n",
    "D2_C = Counter(k2)\n",
    "\n",
    "#for k in k1:\n",
    "#    D1_C.update(k)\n",
    "\n",
    "#for k in k2:\n",
    "#    D2_C.update(k)\n",
    "\n",
    "print(\"Domain 1 has: \", D1_C)\n",
    "print(\"Domain 2 has: \", D2_C)"
   ]
  }
 ],
 "metadata": {
  "kernelspec": {
   "display_name": "Python 3 (ipykernel)",
   "language": "python",
   "name": "python3"
  },
  "language_info": {
   "codemirror_mode": {
    "name": "ipython",
    "version": 3
   },
   "file_extension": ".py",
   "mimetype": "text/x-python",
   "name": "python",
   "nbconvert_exporter": "python",
   "pygments_lexer": "ipython3",
   "version": "3.11.5"
  }
 },
 "nbformat": 4,
 "nbformat_minor": 5
}
