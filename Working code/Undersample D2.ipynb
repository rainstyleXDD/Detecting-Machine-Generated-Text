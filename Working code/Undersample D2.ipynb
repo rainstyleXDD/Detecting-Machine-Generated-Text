{
 "cells": [
  {
   "cell_type": "code",
   "execution_count": 19,
   "id": "429a1687-9969-4037-961a-14cb09880c07",
   "metadata": {},
   "outputs": [],
   "source": [
    "from sklearn.feature_extraction.text import CountVectorizer\n",
    "from collections import Counter\n",
    "from sklearn.naive_bayes import MultinomialNB\n",
    "from sklearn.model_selection import train_test_split\n",
    "from sklearn.metrics import accuracy_score\n",
    "import json, csv\n",
    "import numpy as np\n",
    "from tensorflow.keras.preprocessing.sequence import pad_sequences\n",
    "\n",
    "\n",
    "import matplotlib.pyplot as plt\n",
    "from imblearn.under_sampling import EditedNearestNeighbours\n",
    "from imblearn.combine import SMOTEENN"
   ]
  },
  {
   "cell_type": "code",
   "execution_count": 2,
   "id": "75fcf078-751d-4dcd-b3cd-74a2c8d11ef8",
   "metadata": {},
   "outputs": [],
   "source": [
    "with open('C:/Users/agkat/Documents/College/1. SML/A1/domain1_train.json', 'r') as file:\n",
    "   domain1_data = [json.loads(line) for line in file]\n",
    "\n",
    "with open('C:/Users/agkat/Documents/College/1. SML/A1/domain2_train.json', 'r') as file:\n",
    "    domain2_data = [json.loads(line) for line in file]\n"
   ]
  },
  {
   "cell_type": "markdown",
   "id": "125f7633-7021-4146-b9b5-ecd4dd5c7666",
   "metadata": {},
   "source": [
    "# Split data into Testing and Validation sets"
   ]
  },
  {
   "cell_type": "code",
   "execution_count": 3,
   "id": "21d7775c-bd48-4a0e-974f-4de01c28f713",
   "metadata": {},
   "outputs": [],
   "source": [
    "# Separate the text and labels\n",
    "X1 = pad_sequences([instance['text'] for instance in domain1_data], padding='post', value=0, maxlen=1075)\n",
    "Y1 = [instance['label'] for instance in domain1_data]\n",
    "\n",
    "X2 = pad_sequences([instance['text'] for instance in domain2_data], padding='post', value=0, maxlen=1075)\n",
    "Y2 = [instance['label'] for instance in domain2_data]"
   ]
  },
  {
   "cell_type": "code",
   "execution_count": 4,
   "id": "cfa4f67d-8427-40ed-b164-be79c9c4e58a",
   "metadata": {},
   "outputs": [],
   "source": [
    "# Split the data into training and validation sets\n",
    "TrainX1, ValX1, TrainY1, ValY1 = train_test_split(X1, Y1, test_size=0.2, random_state=42)\n",
    "TrainX2, ValX2, TrainY2, ValY2 = train_test_split(X2, Y2, test_size=0.2, random_state=42)"
   ]
  },
  {
   "cell_type": "code",
   "execution_count": 6,
   "id": "7ba8d709-abab-4833-9eb8-8bb1323ebe18",
   "metadata": {},
   "outputs": [
    {
     "data": {
      "text/plain": [
       "array([[ 126,    1,  199, ...,    0,    0,    0],\n",
       "       [   0,    0,    3, ...,    0,    0,    0],\n",
       "       [   2, 1212,  818, ...,    0,    0,    0],\n",
       "       ...,\n",
       "       [   0,  833,    0, ...,    0,    0,    0],\n",
       "       [  58, 1111,    4, ...,    0,    0,    0],\n",
       "       [   2,   48,  124, ...,    0,    0,    0]])"
      ]
     },
     "execution_count": 6,
     "metadata": {},
     "output_type": "execute_result"
    }
   ],
   "source": [
    "np.array(TrainX1)"
   ]
  },
  {
   "cell_type": "markdown",
   "id": "7c281835-28e4-4b41-8455-777efeb394a9",
   "metadata": {},
   "source": [
    "## Nearest Neighbours are Edited here"
   ]
  },
  {
   "cell_type": "code",
   "execution_count": 58,
   "id": "9854e168-6bf5-4782-acec-8dbf5576ca97",
   "metadata": {},
   "outputs": [],
   "source": [
    "c = [TrainY2]\n",
    "for n in range(1, 10):\n",
    "    enn = EditedNearestNeighbours(n_neighbors=n, sampling_strategy='majority')\n",
    "    X_train_enn, y_train_enn = enn.fit_resample(TrainX2, TrainY2)\n",
    "    c.append(y_train_enn)\n",
    "    \n"
   ]
  },
  {
   "cell_type": "code",
   "execution_count": 59,
   "id": "15c44cd6-d94a-49b8-905b-f8415356311d",
   "metadata": {},
   "outputs": [
    {
     "data": {
      "image/png": "[encoded data removed]",
      "text/plain": [
       "<Figure size 640x480 with 1 Axes>"
      ]
     },
     "metadata": {},
     "output_type": "display_data"
    }
   ],
   "source": [
    "# c.append(TrainY2)\n",
    "plt.hist(c, np.linspace(0, 1, 5), alpha=0.5, label=['Default',1,2,3,4,5,6,7,8,9,10,'Default'], )\n",
    "#plt.hist(, np.linspace(0, 1, 4), alpha=0.5, label='Default')\n",
    "plt.xlabel('Labels')\n",
    "plt.ylabel('Occurances')\n",
    "plt.legend()\n",
    "plt.show()\n"
   ]
  },
  {
   "cell_type": "markdown",
   "id": "6373cb37-c335-42cc-a3bc-a0e445303583",
   "metadata": {},
   "source": [
    "## Training sets \n",
    "\n",
    "### Domain 1\n",
    "- TrainX1 \n",
    "- TrainY1\n",
    "\n",
    "### Domain 2\n",
    "- X_train_enn\n",
    "- y_train_enn\n",
    "\n",
    "## Validation sets\n",
    "\n",
    "### Domain 1\n",
    "- ValX1\n",
    "- ValY1\n",
    "\n",
    "### Domain 2\n",
    "- ValX2\n",
    "- ValY2"
   ]
  }
 ],
 "metadata": {
  "kernelspec": {
   "display_name": "Python 3 (ipykernel)",
   "language": "python",
   "name": "python3"
  },
  "language_info": {
   "codemirror_mode": {
    "name": "ipython",
    "version": 3
   },
   "file_extension": ".py",
   "mimetype": "text/x-python",
   "name": "python",
   "nbconvert_exporter": "python",
   "pygments_lexer": "ipython3",
   "version": "3.11.5"
  }
 },
 "nbformat": 4,
 "nbformat_minor": 5
}
